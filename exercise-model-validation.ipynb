{
 "cells": [
  {
   "cell_type": "markdown",
   "id": "54ed0f43",
   "metadata": {
    "papermill": {
     "duration": 0.004128,
     "end_time": "2025-10-22T12:31:10.666082",
     "exception": false,
     "start_time": "2025-10-22T12:31:10.661954",
     "status": "completed"
    },
    "tags": []
   },
   "source": [
    "**This notebook is an exercise in the [Introduction to Machine Learning](https://www.kaggle.com/learn/intro-to-machine-learning) course.  You can reference the tutorial at [this link](https://www.kaggle.com/dansbecker/model-validation).**\n",
    "\n",
    "---\n"
   ]
  },
  {
   "cell_type": "markdown",
   "id": "3a2dbf05",
   "metadata": {
    "papermill": {
     "duration": 0.002968,
     "end_time": "2025-10-22T12:31:10.672546",
     "exception": false,
     "start_time": "2025-10-22T12:31:10.669578",
     "status": "completed"
    },
    "tags": []
   },
   "source": [
    "## Recap\n",
    "You've built a model. In this exercise you will test how good your model is.\n",
    "\n",
    "Run the cell below to set up your coding environment where the previous exercise left off."
   ]
  },
  {
   "cell_type": "code",
   "execution_count": 1,
   "id": "d3c2b9af",
   "metadata": {
    "execution": {
     "iopub.execute_input": "2025-10-22T12:31:10.681160Z",
     "iopub.status.busy": "2025-10-22T12:31:10.680156Z",
     "iopub.status.idle": "2025-10-22T12:31:15.266655Z",
     "shell.execute_reply": "2025-10-22T12:31:15.265568Z"
    },
    "papermill": {
     "duration": 4.592736,
     "end_time": "2025-10-22T12:31:15.268497",
     "exception": false,
     "start_time": "2025-10-22T12:31:10.675761",
     "status": "completed"
    },
    "tags": []
   },
   "outputs": [
    {
     "name": "stdout",
     "output_type": "stream",
     "text": [
      "First in-sample predictions: [208500. 181500. 223500. 140000. 250000.]\n",
      "Actual target values for those homes: [208500, 181500, 223500, 140000, 250000]\n",
      "Setup Complete\n"
     ]
    }
   ],
   "source": [
    "# Code you have previously used to load data\n",
    "import pandas as pd\n",
    "from sklearn.tree import DecisionTreeRegressor\n",
    "\n",
    "# Path of the file to read\n",
    "iowa_file_path = '../input/home-data-for-ml-course/train.csv'\n",
    "\n",
    "home_data = pd.read_csv(iowa_file_path)\n",
    "y = home_data.SalePrice\n",
    "feature_columns = ['LotArea', 'YearBuilt', '1stFlrSF', '2ndFlrSF', 'FullBath', 'BedroomAbvGr', 'TotRmsAbvGrd']\n",
    "X = home_data[feature_columns]\n",
    "\n",
    "# Specify Model\n",
    "iowa_model = DecisionTreeRegressor()\n",
    "# Fit Model\n",
    "iowa_model.fit(X, y)\n",
    "\n",
    "print(\"First in-sample predictions:\", iowa_model.predict(X.head()))\n",
    "print(\"Actual target values for those homes:\", y.head().tolist())\n",
    "\n",
    "# Set up code checking\n",
    "from learntools.core import binder\n",
    "binder.bind(globals())\n",
    "from learntools.machine_learning.ex4 import *\n",
    "print(\"Setup Complete\")"
   ]
  },
  {
   "cell_type": "markdown",
   "id": "fc2840d8",
   "metadata": {
    "papermill": {
     "duration": 0.00311,
     "end_time": "2025-10-22T12:31:15.275191",
     "exception": false,
     "start_time": "2025-10-22T12:31:15.272081",
     "status": "completed"
    },
    "tags": []
   },
   "source": [
    "# Exercises\n",
    "\n",
    "## Step 1: Split Your Data\n",
    "Use the `train_test_split` function to split up your data.\n",
    "\n",
    "Give it the argument `random_state=1` so the `check` functions know what to expect when verifying your code.\n",
    "\n",
    "Recall, your features are loaded in the DataFrame **X** and your target is loaded in **y**.\n"
   ]
  },
  {
   "cell_type": "code",
   "execution_count": 2,
   "id": "ed5a58de",
   "metadata": {
    "execution": {
     "iopub.execute_input": "2025-10-22T12:31:15.283100Z",
     "iopub.status.busy": "2025-10-22T12:31:15.282711Z",
     "iopub.status.idle": "2025-10-22T12:31:15.299743Z",
     "shell.execute_reply": "2025-10-22T12:31:15.298677Z"
    },
    "papermill": {
     "duration": 0.022913,
     "end_time": "2025-10-22T12:31:15.301396",
     "exception": false,
     "start_time": "2025-10-22T12:31:15.278483",
     "status": "completed"
    },
    "tags": []
   },
   "outputs": [
    {
     "data": {
      "application/javascript": [
       "parent.postMessage({\"jupyterEvent\": \"custom.exercise_interaction\", \"data\": {\"outcomeType\": 1, \"valueTowardsCompletion\": 0.25, \"interactionType\": 1, \"questionType\": 2, \"questionId\": \"1_SplitData\", \"learnToolsVersion\": \"0.3.5\", \"failureMessage\": \"\", \"exceptionClass\": \"\", \"trace\": \"\"}}, \"*\")"
      ],
      "text/plain": [
       "<IPython.core.display.Javascript object>"
      ]
     },
     "metadata": {},
     "output_type": "display_data"
    },
    {
     "data": {
      "text/markdown": [
       "<span style=\"color:#33cc33\">Correct</span>"
      ],
      "text/plain": [
       "Correct"
      ]
     },
     "metadata": {},
     "output_type": "display_data"
    }
   ],
   "source": [
    "# Import the train_test_split function and uncomment\n",
    "from sklearn.model_selection import train_test_split\n",
    "\n",
    "# fill in and uncomment\n",
    "train_X, val_X, train_y, val_y = train_test_split(X, y, random_state=1)\n",
    "\n",
    "# Check your answer\n",
    "step_1.check()"
   ]
  },
  {
   "cell_type": "code",
   "execution_count": 3,
   "id": "9696773b",
   "metadata": {
    "execution": {
     "iopub.execute_input": "2025-10-22T12:31:15.310632Z",
     "iopub.status.busy": "2025-10-22T12:31:15.309911Z",
     "iopub.status.idle": "2025-10-22T12:31:15.314623Z",
     "shell.execute_reply": "2025-10-22T12:31:15.313553Z"
    },
    "papermill": {
     "duration": 0.011016,
     "end_time": "2025-10-22T12:31:15.316245",
     "exception": false,
     "start_time": "2025-10-22T12:31:15.305229",
     "status": "completed"
    },
    "tags": []
   },
   "outputs": [],
   "source": [
    "# The lines below will show you a hint or the solution.\n",
    "# step_1.hint() \n",
    "# step_1.solution()\n"
   ]
  },
  {
   "cell_type": "markdown",
   "id": "ef165c4f",
   "metadata": {
    "papermill": {
     "duration": 0.003439,
     "end_time": "2025-10-22T12:31:15.323461",
     "exception": false,
     "start_time": "2025-10-22T12:31:15.320022",
     "status": "completed"
    },
    "tags": []
   },
   "source": [
    "## Step 2: Specify and Fit the Model\n",
    "\n",
    "Create a `DecisionTreeRegressor` model and fit it to the relevant data.\n",
    "Set `random_state` to 1 again when creating the model."
   ]
  },
  {
   "cell_type": "code",
   "execution_count": 4,
   "id": "f8a098d3",
   "metadata": {
    "execution": {
     "iopub.execute_input": "2025-10-22T12:31:15.332428Z",
     "iopub.status.busy": "2025-10-22T12:31:15.331737Z",
     "iopub.status.idle": "2025-10-22T12:31:15.358680Z",
     "shell.execute_reply": "2025-10-22T12:31:15.357616Z"
    },
    "papermill": {
     "duration": 0.033286,
     "end_time": "2025-10-22T12:31:15.360282",
     "exception": false,
     "start_time": "2025-10-22T12:31:15.326996",
     "status": "completed"
    },
    "tags": []
   },
   "outputs": [
    {
     "name": "stdout",
     "output_type": "stream",
     "text": [
      "[186500. 184000. 130000.  92000. 164500. 220000. 335000. 144152. 215000.\n",
      " 262000.]\n",
      "[186500. 184000. 130000.  92000. 164500. 220000. 335000. 144152. 215000.\n",
      " 262000.]\n"
     ]
    },
    {
     "data": {
      "application/javascript": [
       "parent.postMessage({\"jupyterEvent\": \"custom.exercise_interaction\", \"data\": {\"outcomeType\": 1, \"valueTowardsCompletion\": 0.25, \"interactionType\": 1, \"questionType\": 2, \"questionId\": \"2_FitModelWithTrain\", \"learnToolsVersion\": \"0.3.5\", \"failureMessage\": \"\", \"exceptionClass\": \"\", \"trace\": \"\"}}, \"*\")"
      ],
      "text/plain": [
       "<IPython.core.display.Javascript object>"
      ]
     },
     "metadata": {},
     "output_type": "display_data"
    },
    {
     "data": {
      "text/markdown": [
       "<span style=\"color:#33cc33\">Correct</span>"
      ],
      "text/plain": [
       "Correct"
      ]
     },
     "metadata": {},
     "output_type": "display_data"
    }
   ],
   "source": [
    "# You imported DecisionTreeRegressor in your last exercise\n",
    "# and that code has been copied to the setup code above. So, no need to\n",
    "# import it again\n",
    "\n",
    "# Specify the model\n",
    "iowa_model = DecisionTreeRegressor(random_state=1)\n",
    "\n",
    "# Fit iowa_model with the training data.\n",
    "iowa_model.fit(train_X, train_y)\n",
    "\n",
    "# Check your answer\n",
    "step_2.check()"
   ]
  },
  {
   "cell_type": "code",
   "execution_count": 5,
   "id": "f382edd4",
   "metadata": {
    "execution": {
     "iopub.execute_input": "2025-10-22T12:31:15.370678Z",
     "iopub.status.busy": "2025-10-22T12:31:15.370349Z",
     "iopub.status.idle": "2025-10-22T12:31:15.375075Z",
     "shell.execute_reply": "2025-10-22T12:31:15.373947Z"
    },
    "papermill": {
     "duration": 0.011526,
     "end_time": "2025-10-22T12:31:15.376662",
     "exception": false,
     "start_time": "2025-10-22T12:31:15.365136",
     "status": "completed"
    },
    "tags": []
   },
   "outputs": [],
   "source": [
    "# step_2.hint()\n",
    "# step_2.solution()"
   ]
  },
  {
   "cell_type": "markdown",
   "id": "88a83f15",
   "metadata": {
    "papermill": {
     "duration": 0.003481,
     "end_time": "2025-10-22T12:31:15.384196",
     "exception": false,
     "start_time": "2025-10-22T12:31:15.380715",
     "status": "completed"
    },
    "tags": []
   },
   "source": [
    "## Step 3: Make Predictions with Validation data\n"
   ]
  },
  {
   "cell_type": "code",
   "execution_count": 6,
   "id": "73dc6ab5",
   "metadata": {
    "execution": {
     "iopub.execute_input": "2025-10-22T12:31:15.392955Z",
     "iopub.status.busy": "2025-10-22T12:31:15.392620Z",
     "iopub.status.idle": "2025-10-22T12:31:15.403734Z",
     "shell.execute_reply": "2025-10-22T12:31:15.402730Z"
    },
    "papermill": {
     "duration": 0.017469,
     "end_time": "2025-10-22T12:31:15.405445",
     "exception": false,
     "start_time": "2025-10-22T12:31:15.387976",
     "status": "completed"
    },
    "tags": []
   },
   "outputs": [
    {
     "data": {
      "application/javascript": [
       "parent.postMessage({\"jupyterEvent\": \"custom.exercise_interaction\", \"data\": {\"outcomeType\": 1, \"valueTowardsCompletion\": 0.25, \"interactionType\": 1, \"questionType\": 2, \"questionId\": \"3_ValPreds\", \"learnToolsVersion\": \"0.3.5\", \"failureMessage\": \"\", \"exceptionClass\": \"\", \"trace\": \"\"}}, \"*\")"
      ],
      "text/plain": [
       "<IPython.core.display.Javascript object>"
      ]
     },
     "metadata": {},
     "output_type": "display_data"
    },
    {
     "data": {
      "text/markdown": [
       "<span style=\"color:#33cc33\">Correct</span>"
      ],
      "text/plain": [
       "Correct"
      ]
     },
     "metadata": {},
     "output_type": "display_data"
    }
   ],
   "source": [
    "# Predict with all validation observations\n",
    "val_predictions = iowa_model.predict(val_X)\n",
    "\n",
    "# Check your answer\n",
    "step_3.check()"
   ]
  },
  {
   "cell_type": "code",
   "execution_count": 7,
   "id": "e4369743",
   "metadata": {
    "execution": {
     "iopub.execute_input": "2025-10-22T12:31:15.415211Z",
     "iopub.status.busy": "2025-10-22T12:31:15.414880Z",
     "iopub.status.idle": "2025-10-22T12:31:15.420681Z",
     "shell.execute_reply": "2025-10-22T12:31:15.419062Z"
    },
    "papermill": {
     "duration": 0.013026,
     "end_time": "2025-10-22T12:31:15.422683",
     "exception": false,
     "start_time": "2025-10-22T12:31:15.409657",
     "status": "completed"
    },
    "tags": []
   },
   "outputs": [],
   "source": [
    "# step_3.hint()\n",
    "# step_3.solution()"
   ]
  },
  {
   "cell_type": "markdown",
   "id": "f67c42e1",
   "metadata": {
    "papermill": {
     "duration": 0.003975,
     "end_time": "2025-10-22T12:31:15.430788",
     "exception": false,
     "start_time": "2025-10-22T12:31:15.426813",
     "status": "completed"
    },
    "tags": []
   },
   "source": [
    "Inspect your predictions and actual values from validation data."
   ]
  },
  {
   "cell_type": "code",
   "execution_count": 8,
   "id": "14eac153",
   "metadata": {
    "execution": {
     "iopub.execute_input": "2025-10-22T12:31:15.439977Z",
     "iopub.status.busy": "2025-10-22T12:31:15.439606Z",
     "iopub.status.idle": "2025-10-22T12:31:15.446420Z",
     "shell.execute_reply": "2025-10-22T12:31:15.445422Z"
    },
    "papermill": {
     "duration": 0.013198,
     "end_time": "2025-10-22T12:31:15.447902",
     "exception": false,
     "start_time": "2025-10-22T12:31:15.434704",
     "status": "completed"
    },
    "tags": []
   },
   "outputs": [
    {
     "name": "stdout",
     "output_type": "stream",
     "text": [
      "[186500. 184000. 130000.  92000. 164500.]\n",
      "258     231500\n",
      "267     179500\n",
      "288     122000\n",
      "649      84500\n",
      "1233    142000\n",
      "Name: SalePrice, dtype: int64\n"
     ]
    }
   ],
   "source": [
    "# print the top few validation predictions\n",
    "print(val_predictions[:5])\n",
    "# print the top few actual prices from validation data\n",
    "print(val_y[:5])"
   ]
  },
  {
   "cell_type": "markdown",
   "id": "4e21391a",
   "metadata": {
    "papermill": {
     "duration": 0.003807,
     "end_time": "2025-10-22T12:31:15.455947",
     "exception": false,
     "start_time": "2025-10-22T12:31:15.452140",
     "status": "completed"
    },
    "tags": []
   },
   "source": [
    "What do you notice that is different from what you saw with in-sample predictions (which are printed after the top code cell in this page).\n",
    "\n",
    "Do you remember why validation predictions differ from in-sample (or training) predictions? This is an important idea from the last lesson.\n",
    "\n",
    "## Step 4: Calculate the Mean Absolute Error in Validation Data\n"
   ]
  },
  {
   "cell_type": "code",
   "execution_count": 9,
   "id": "849daf28",
   "metadata": {
    "execution": {
     "iopub.execute_input": "2025-10-22T12:31:15.465458Z",
     "iopub.status.busy": "2025-10-22T12:31:15.465057Z",
     "iopub.status.idle": "2025-10-22T12:31:15.476955Z",
     "shell.execute_reply": "2025-10-22T12:31:15.475890Z"
    },
    "papermill": {
     "duration": 0.018693,
     "end_time": "2025-10-22T12:31:15.478666",
     "exception": false,
     "start_time": "2025-10-22T12:31:15.459973",
     "status": "completed"
    },
    "tags": []
   },
   "outputs": [
    {
     "name": "stdout",
     "output_type": "stream",
     "text": [
      "29652.931506849316\n"
     ]
    },
    {
     "data": {
      "application/javascript": [
       "parent.postMessage({\"jupyterEvent\": \"custom.exercise_interaction\", \"data\": {\"outcomeType\": 1, \"valueTowardsCompletion\": 0.25, \"interactionType\": 1, \"questionType\": 1, \"questionId\": \"4_MAE\", \"learnToolsVersion\": \"0.3.5\", \"failureMessage\": \"\", \"exceptionClass\": \"\", \"trace\": \"\"}}, \"*\")"
      ],
      "text/plain": [
       "<IPython.core.display.Javascript object>"
      ]
     },
     "metadata": {},
     "output_type": "display_data"
    },
    {
     "data": {
      "text/markdown": [
       "<span style=\"color:#33cc33\">Correct</span>"
      ],
      "text/plain": [
       "Correct"
      ]
     },
     "metadata": {},
     "output_type": "display_data"
    }
   ],
   "source": [
    "from sklearn.metrics import mean_absolute_error\n",
    "val_mae = mean_absolute_error(val_y, val_predictions)\n",
    "\n",
    "# uncomment following line to see the validation_mae\n",
    "print(val_mae)\n",
    "\n",
    "# Check your answer\n",
    "step_4.check()"
   ]
  },
  {
   "cell_type": "code",
   "execution_count": 10,
   "id": "424c9809",
   "metadata": {
    "execution": {
     "iopub.execute_input": "2025-10-22T12:31:15.489393Z",
     "iopub.status.busy": "2025-10-22T12:31:15.489085Z",
     "iopub.status.idle": "2025-10-22T12:31:15.493658Z",
     "shell.execute_reply": "2025-10-22T12:31:15.492440Z"
    },
    "papermill": {
     "duration": 0.012281,
     "end_time": "2025-10-22T12:31:15.495547",
     "exception": false,
     "start_time": "2025-10-22T12:31:15.483266",
     "status": "completed"
    },
    "tags": []
   },
   "outputs": [],
   "source": [
    "# step_4.hint()\n",
    "# step_4.solution()"
   ]
  },
  {
   "cell_type": "markdown",
   "id": "92d05d1f",
   "metadata": {
    "papermill": {
     "duration": 0.004243,
     "end_time": "2025-10-22T12:31:15.504749",
     "exception": false,
     "start_time": "2025-10-22T12:31:15.500506",
     "status": "completed"
    },
    "tags": []
   },
   "source": [
    "Is that MAE good?  There isn't a general rule for what values are good that applies across applications. But you'll see how to use (and improve) this number in the next step.\n",
    "\n",
    "# Keep Going\n",
    "\n",
    "You are ready for **[Underfitting and Overfitting](https://www.kaggle.com/dansbecker/underfitting-and-overfitting).**\n"
   ]
  },
  {
   "cell_type": "markdown",
   "id": "b1d4bfce",
   "metadata": {
    "papermill": {
     "duration": 0.004484,
     "end_time": "2025-10-22T12:31:15.514010",
     "exception": false,
     "start_time": "2025-10-22T12:31:15.509526",
     "status": "completed"
    },
    "tags": []
   },
   "source": [
    "---\n",
    "\n",
    "\n",
    "\n",
    "\n",
    "*Have questions or comments? Visit the [course discussion forum](https://www.kaggle.com/learn/intro-to-machine-learning/discussion) to chat with other learners.*"
   ]
  }
 ],
 "metadata": {
  "kaggle": {
   "accelerator": "none",
   "dataSources": [
    {
     "databundleVersionId": 111096,
     "sourceId": 10211,
     "sourceType": "competition"
    },
    {
     "datasetId": 11167,
     "sourceId": 15520,
     "sourceType": "datasetVersion"
    },
    {
     "datasetId": 2709,
     "sourceId": 38454,
     "sourceType": "datasetVersion"
    }
   ],
   "isGpuEnabled": false,
   "isInternetEnabled": false,
   "language": "python",
   "sourceType": "notebook"
  },
  "kernelspec": {
   "display_name": "Python 3",
   "language": "python",
   "name": "python3"
  },
  "language_info": {
   "codemirror_mode": {
    "name": "ipython",
    "version": 3
   },
   "file_extension": ".py",
   "mimetype": "text/x-python",
   "name": "python",
   "nbconvert_exporter": "python",
   "pygments_lexer": "ipython3",
   "version": "3.11.13"
  },
  "papermill": {
   "default_parameters": {},
   "duration": 10.910602,
   "end_time": "2025-10-22T12:31:16.241159",
   "environment_variables": {},
   "exception": null,
   "input_path": "__notebook__.ipynb",
   "output_path": "__notebook__.ipynb",
   "parameters": {},
   "start_time": "2025-10-22T12:31:05.330557",
   "version": "2.6.0"
  }
 },
 "nbformat": 4,
 "nbformat_minor": 5
}
